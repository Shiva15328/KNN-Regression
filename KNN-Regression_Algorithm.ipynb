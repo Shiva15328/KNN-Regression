{
 "cells": [
  {
   "cell_type": "code",
   "execution_count": 1,
   "id": "53e2d219",
   "metadata": {},
   "outputs": [],
   "source": [
    "#Importing libraries\n",
    "import numpy as np\n",
    "import pandas as pd\n",
    "from sklearn.neighbors import KNeighborsRegressor\n",
    "from sklearn.model_selection import train_test_split\n",
    "from math import sqrt\n",
    "from sklearn.metrics import mean_squared_error"
   ]
  },
  {
   "cell_type": "code",
   "execution_count": 2,
   "id": "e7cfbb37",
   "metadata": {},
   "outputs": [
    {
     "name": "stdout",
     "output_type": "stream",
     "text": [
      "   ID  Height(Inches)  Weight(Pounds)\n",
      "0   1        65.78331        112.9925\n",
      "1   2        71.51521        136.4873\n",
      "2   3        69.39874        153.0269\n",
      "3   4        68.21660        142.3354\n",
      "4   5        67.78781        144.2971\n"
     ]
    }
   ],
   "source": [
    "# reading and putting data to dataframe\n",
    "df = pd.read_csv(\"train.csv\")\n",
    "print(df.head())"
   ]
  },
  {
   "cell_type": "code",
   "execution_count": 3,
   "id": "ffe292a9",
   "metadata": {},
   "outputs": [],
   "source": [
    "#Sorting the attributes to x and y variable by using slicing\n",
    "x = df[['Height(Inches)']].values\n",
    "y = df[['Weight(Pounds)']].values"
   ]
  },
  {
   "cell_type": "code",
   "execution_count": 4,
   "id": "2a4d9ca0",
   "metadata": {},
   "outputs": [],
   "source": [
    "# Splitting the data into testing and training\n",
    "x_train,x_test,y_train,y_test = train_test_split(x,y,test_size=0.20,random_state=0)\n",
    "                                            "
   ]
  },
  {
   "cell_type": "code",
   "execution_count": 8,
   "id": "82c64d4c",
   "metadata": {},
   "outputs": [
    {
     "name": "stdout",
     "output_type": "stream",
     "text": [
      "RMSE value for k = 1 is: 15.806318932230155\n",
      "RMSE value for k = 2 is: 13.067152206200232\n",
      "RMSE value for k = 3 is: 11.732684258391433\n",
      "RMSE value for k = 4 is: 11.83979762046415\n",
      "RMSE value for k = 5 is: 11.474215794939093\n",
      "RMSE value for k = 6 is: 11.151676563299613\n",
      "RMSE value for k = 7 is: 10.851356349971363\n",
      "RMSE value for k = 8 is: 10.65868151684698\n",
      "RMSE value for k = 9 is: 10.57008303970565\n",
      "RMSE value for k = 10 is: 10.563061791027756\n",
      "RMSE value for k = 11 is: 10.567261437259596\n",
      "RMSE value for k = 12 is: 10.710857074454408\n",
      "RMSE value for k = 13 is: 10.681272825301233\n",
      "RMSE value for k = 14 is: 10.687468738833209\n",
      "RMSE value for k = 15 is: 10.657183716441407\n",
      "RMSE value for k = 16 is: 10.68264614475093\n",
      "RMSE value for k = 17 is: 10.671068412057954\n",
      "RMSE value for k = 18 is: 10.641335817930846\n",
      "RMSE value for k = 19 is: 10.621160079595427\n",
      "RMSE value for k = 20 is: 10.61700029631946\n",
      "RMSE value for k = 21 is: 10.691933292663688\n",
      "RMSE value for k = 22 is: 10.730629644008594\n",
      "RMSE value for k = 23 is: 10.690378031533792\n",
      "RMSE value for k = 24 is: 10.668765626008733\n"
     ]
    }
   ],
   "source": [
    "# To find the exact K value\n",
    "for K in range(1,25):\n",
    "    model=KNeighborsRegressor(n_neighbors = K,metric='euclidean')\n",
    "    model.fit(x_train,y_train) #fit the model\n",
    "    y_pred = model.predict(x_test)\n",
    "    error = sqrt(mean_squared_error(y_test,y_pred)) #Calculating RMSE\n",
    "    print('RMSE value for k =',K,'is:',error)"
   ]
  },
  {
   "cell_type": "code",
   "execution_count": 5,
   "id": "792cdb16",
   "metadata": {},
   "outputs": [],
   "source": [
    "# knn = KNeighborsRegressor(n_neighbors=10, metric='euclidean')\n",
    "knn=KNeighborsRegressor(n_neighbors=10, metric='manhattan')\n",
    "knn.fit(x_train,y_train)\n",
    "y_pred=knn.predict(x_test)"
   ]
  },
  {
   "cell_type": "code",
   "execution_count": 6,
   "id": "eaf994ae",
   "metadata": {},
   "outputs": [
    {
     "name": "stdout",
     "output_type": "stream",
     "text": [
      "RMSE : 10.563061791027756\n"
     ]
    }
   ],
   "source": [
    "#print(y_pred)\n",
    "error = sqrt(mean_squared_error(y_test,y_pred))\n",
    "print(\"RMSE :\",error)\n"
   ]
  },
  {
   "cell_type": "code",
   "execution_count": 7,
   "id": "7ce11de0",
   "metadata": {},
   "outputs": [
    {
     "name": "stdout",
     "output_type": "stream",
     "text": [
      "prediction : [[131.38238]]\n"
     ]
    }
   ],
   "source": [
    "#Testing the algorithm by giving input values\n",
    "testx = [[70.24447]]\n",
    "print('prediction :',knn.predict(testx))"
   ]
  },
  {
   "cell_type": "code",
   "execution_count": null,
   "id": "ecd004f6",
   "metadata": {},
   "outputs": [],
   "source": []
  }
 ],
 "metadata": {
  "kernelspec": {
   "display_name": "Python 3 (ipykernel)",
   "language": "python",
   "name": "python3"
  },
  "language_info": {
   "codemirror_mode": {
    "name": "ipython",
    "version": 3
   },
   "file_extension": ".py",
   "mimetype": "text/x-python",
   "name": "python",
   "nbconvert_exporter": "python",
   "pygments_lexer": "ipython3",
   "version": "3.9.13"
  }
 },
 "nbformat": 4,
 "nbformat_minor": 5
}
